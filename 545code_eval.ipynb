{
  "cells": [
    {
      "cell_type": "code",
      "execution_count": 2,
      "metadata": {
        "id": "b6JWefgwnVuh"
      },
      "outputs": [
        {
          "name": "stdout",
          "output_type": "stream",
          "text": [
            "Requirement already satisfied: evalplus in /home/dylanz/anaconda3/envs/eecs545/lib/python3.11/site-packages (0.2.1)\n",
            "Requirement already satisfied: wget>=3.2 in /home/dylanz/anaconda3/envs/eecs545/lib/python3.11/site-packages (from evalplus) (3.2)\n",
            "Requirement already satisfied: tempdir>=0.7.1 in /home/dylanz/anaconda3/envs/eecs545/lib/python3.11/site-packages (from evalplus) (0.7.1)\n",
            "Requirement already satisfied: multipledispatch>=0.6.0 in /home/dylanz/anaconda3/envs/eecs545/lib/python3.11/site-packages (from evalplus) (1.0.0)\n",
            "Requirement already satisfied: appdirs>=1.4.4 in /home/dylanz/anaconda3/envs/eecs545/lib/python3.11/site-packages (from evalplus) (1.4.4)\n",
            "Requirement already satisfied: numpy>=1.19.5 in /home/dylanz/anaconda3/envs/eecs545/lib/python3.11/site-packages (from evalplus) (1.26.3)\n",
            "Requirement already satisfied: tqdm>=4.56.0 in /home/dylanz/anaconda3/envs/eecs545/lib/python3.11/site-packages (from evalplus) (4.66.2)\n",
            "Requirement already satisfied: termcolor>=2.0.0 in /home/dylanz/anaconda3/envs/eecs545/lib/python3.11/site-packages (from evalplus) (2.4.0)\n"
          ]
        }
      ],
      "source": [
        "# This script resfers to https://github.com/evalplus/evalplus\n",
        "!pip install evalplus --upgrade"
      ]
    },
    {
      "cell_type": "code",
      "execution_count": 27,
      "metadata": {
        "id": "QvXZv-JhO9Rj"
      },
      "outputs": [
        {
          "name": "stdout",
          "output_type": "stream",
          "text": [
            "Requirement already satisfied: transformers in /home/dylanz/anaconda3/envs/eecs545/lib/python3.11/site-packages (4.39.3)\n",
            "Requirement already satisfied: filelock in /home/dylanz/anaconda3/envs/eecs545/lib/python3.11/site-packages (from transformers) (3.13.1)\n",
            "Requirement already satisfied: huggingface-hub<1.0,>=0.19.3 in /home/dylanz/anaconda3/envs/eecs545/lib/python3.11/site-packages (from transformers) (0.22.2)\n",
            "Requirement already satisfied: numpy>=1.17 in /home/dylanz/anaconda3/envs/eecs545/lib/python3.11/site-packages (from transformers) (1.26.3)\n",
            "Requirement already satisfied: packaging>=20.0 in /home/dylanz/anaconda3/envs/eecs545/lib/python3.11/site-packages (from transformers) (23.2)\n",
            "Requirement already satisfied: pyyaml>=5.1 in /home/dylanz/anaconda3/envs/eecs545/lib/python3.11/site-packages (from transformers) (6.0.1)\n",
            "Requirement already satisfied: regex!=2019.12.17 in /home/dylanz/anaconda3/envs/eecs545/lib/python3.11/site-packages (from transformers) (2024.4.16)\n",
            "Requirement already satisfied: requests in /home/dylanz/anaconda3/envs/eecs545/lib/python3.11/site-packages (from transformers) (2.31.0)\n",
            "Requirement already satisfied: tokenizers<0.19,>=0.14 in /home/dylanz/anaconda3/envs/eecs545/lib/python3.11/site-packages (from transformers) (0.15.2)\n",
            "Requirement already satisfied: safetensors>=0.4.1 in /home/dylanz/anaconda3/envs/eecs545/lib/python3.11/site-packages (from transformers) (0.4.3)\n",
            "Requirement already satisfied: tqdm>=4.27 in /home/dylanz/anaconda3/envs/eecs545/lib/python3.11/site-packages (from transformers) (4.66.2)\n",
            "Requirement already satisfied: fsspec>=2023.5.0 in /home/dylanz/anaconda3/envs/eecs545/lib/python3.11/site-packages (from huggingface-hub<1.0,>=0.19.3->transformers) (2024.2.0)\n",
            "Requirement already satisfied: typing-extensions>=3.7.4.3 in /home/dylanz/anaconda3/envs/eecs545/lib/python3.11/site-packages (from huggingface-hub<1.0,>=0.19.3->transformers) (4.9.0)\n",
            "Requirement already satisfied: charset-normalizer<4,>=2 in /home/dylanz/anaconda3/envs/eecs545/lib/python3.11/site-packages (from requests->transformers) (3.3.2)\n",
            "Requirement already satisfied: idna<4,>=2.5 in /home/dylanz/anaconda3/envs/eecs545/lib/python3.11/site-packages (from requests->transformers) (3.7)\n",
            "Requirement already satisfied: urllib3<3,>=1.21.1 in /home/dylanz/anaconda3/envs/eecs545/lib/python3.11/site-packages (from requests->transformers) (2.2.1)\n",
            "Requirement already satisfied: certifi>=2017.4.17 in /home/dylanz/anaconda3/envs/eecs545/lib/python3.11/site-packages (from requests->transformers) (2024.2.2)\n",
            "Requirement already satisfied: bitsandbytes in /home/dylanz/anaconda3/envs/eecs545/lib/python3.11/site-packages (0.43.1)\n",
            "Requirement already satisfied: torch in /home/dylanz/anaconda3/envs/eecs545/lib/python3.11/site-packages (from bitsandbytes) (2.2.1)\n",
            "Requirement already satisfied: numpy in /home/dylanz/anaconda3/envs/eecs545/lib/python3.11/site-packages (from bitsandbytes) (1.26.3)\n",
            "Requirement already satisfied: filelock in /home/dylanz/anaconda3/envs/eecs545/lib/python3.11/site-packages (from torch->bitsandbytes) (3.13.1)\n",
            "Requirement already satisfied: typing-extensions>=4.8.0 in /home/dylanz/anaconda3/envs/eecs545/lib/python3.11/site-packages (from torch->bitsandbytes) (4.9.0)\n",
            "Requirement already satisfied: sympy in /home/dylanz/anaconda3/envs/eecs545/lib/python3.11/site-packages (from torch->bitsandbytes) (1.12)\n",
            "Requirement already satisfied: networkx in /home/dylanz/anaconda3/envs/eecs545/lib/python3.11/site-packages (from torch->bitsandbytes) (3.2.1)\n",
            "Requirement already satisfied: jinja2 in /home/dylanz/anaconda3/envs/eecs545/lib/python3.11/site-packages (from torch->bitsandbytes) (3.1.3)\n",
            "Requirement already satisfied: fsspec in /home/dylanz/anaconda3/envs/eecs545/lib/python3.11/site-packages (from torch->bitsandbytes) (2024.2.0)\n",
            "Requirement already satisfied: nvidia-cuda-nvrtc-cu12==12.1.105 in /home/dylanz/anaconda3/envs/eecs545/lib/python3.11/site-packages (from torch->bitsandbytes) (12.1.105)\n",
            "Requirement already satisfied: nvidia-cuda-runtime-cu12==12.1.105 in /home/dylanz/anaconda3/envs/eecs545/lib/python3.11/site-packages (from torch->bitsandbytes) (12.1.105)\n",
            "Requirement already satisfied: nvidia-cuda-cupti-cu12==12.1.105 in /home/dylanz/anaconda3/envs/eecs545/lib/python3.11/site-packages (from torch->bitsandbytes) (12.1.105)\n",
            "Requirement already satisfied: nvidia-cudnn-cu12==8.9.2.26 in /home/dylanz/anaconda3/envs/eecs545/lib/python3.11/site-packages (from torch->bitsandbytes) (8.9.2.26)\n",
            "Requirement already satisfied: nvidia-cublas-cu12==12.1.3.1 in /home/dylanz/anaconda3/envs/eecs545/lib/python3.11/site-packages (from torch->bitsandbytes) (12.1.3.1)\n",
            "Requirement already satisfied: nvidia-cufft-cu12==11.0.2.54 in /home/dylanz/anaconda3/envs/eecs545/lib/python3.11/site-packages (from torch->bitsandbytes) (11.0.2.54)\n",
            "Requirement already satisfied: nvidia-curand-cu12==10.3.2.106 in /home/dylanz/anaconda3/envs/eecs545/lib/python3.11/site-packages (from torch->bitsandbytes) (10.3.2.106)\n",
            "Requirement already satisfied: nvidia-cusolver-cu12==11.4.5.107 in /home/dylanz/anaconda3/envs/eecs545/lib/python3.11/site-packages (from torch->bitsandbytes) (11.4.5.107)\n",
            "Requirement already satisfied: nvidia-cusparse-cu12==12.1.0.106 in /home/dylanz/anaconda3/envs/eecs545/lib/python3.11/site-packages (from torch->bitsandbytes) (12.1.0.106)\n",
            "Requirement already satisfied: nvidia-nccl-cu12==2.19.3 in /home/dylanz/anaconda3/envs/eecs545/lib/python3.11/site-packages (from torch->bitsandbytes) (2.19.3)\n",
            "Requirement already satisfied: nvidia-nvtx-cu12==12.1.105 in /home/dylanz/anaconda3/envs/eecs545/lib/python3.11/site-packages (from torch->bitsandbytes) (12.1.105)\n",
            "Requirement already satisfied: triton==2.2.0 in /home/dylanz/anaconda3/envs/eecs545/lib/python3.11/site-packages (from torch->bitsandbytes) (2.2.0)\n",
            "Requirement already satisfied: nvidia-nvjitlink-cu12 in /home/dylanz/anaconda3/envs/eecs545/lib/python3.11/site-packages (from nvidia-cusolver-cu12==11.4.5.107->torch->bitsandbytes) (12.4.99)\n",
            "Requirement already satisfied: MarkupSafe>=2.0 in /home/dylanz/anaconda3/envs/eecs545/lib/python3.11/site-packages (from jinja2->torch->bitsandbytes) (2.1.5)\n",
            "Requirement already satisfied: mpmath>=0.19 in /home/dylanz/anaconda3/envs/eecs545/lib/python3.11/site-packages (from sympy->torch->bitsandbytes) (1.3.0)\n",
            "Requirement already satisfied: peft in /home/dylanz/anaconda3/envs/eecs545/lib/python3.11/site-packages (0.10.0)\n",
            "Requirement already satisfied: numpy>=1.17 in /home/dylanz/anaconda3/envs/eecs545/lib/python3.11/site-packages (from peft) (1.26.3)\n",
            "Requirement already satisfied: packaging>=20.0 in /home/dylanz/anaconda3/envs/eecs545/lib/python3.11/site-packages (from peft) (23.2)\n",
            "Requirement already satisfied: psutil in /home/dylanz/anaconda3/envs/eecs545/lib/python3.11/site-packages (from peft) (5.9.0)\n",
            "Requirement already satisfied: pyyaml in /home/dylanz/anaconda3/envs/eecs545/lib/python3.11/site-packages (from peft) (6.0.1)\n",
            "Requirement already satisfied: torch>=1.13.0 in /home/dylanz/anaconda3/envs/eecs545/lib/python3.11/site-packages (from peft) (2.2.1)\n",
            "Requirement already satisfied: transformers in /home/dylanz/anaconda3/envs/eecs545/lib/python3.11/site-packages (from peft) (4.39.3)\n",
            "Requirement already satisfied: tqdm in /home/dylanz/anaconda3/envs/eecs545/lib/python3.11/site-packages (from peft) (4.66.2)\n",
            "Requirement already satisfied: accelerate>=0.21.0 in /home/dylanz/anaconda3/envs/eecs545/lib/python3.11/site-packages (from peft) (0.29.3)\n",
            "Requirement already satisfied: safetensors in /home/dylanz/anaconda3/envs/eecs545/lib/python3.11/site-packages (from peft) (0.4.3)\n",
            "Requirement already satisfied: huggingface-hub>=0.17.0 in /home/dylanz/anaconda3/envs/eecs545/lib/python3.11/site-packages (from peft) (0.22.2)\n",
            "Requirement already satisfied: filelock in /home/dylanz/anaconda3/envs/eecs545/lib/python3.11/site-packages (from huggingface-hub>=0.17.0->peft) (3.13.1)\n",
            "Requirement already satisfied: fsspec>=2023.5.0 in /home/dylanz/anaconda3/envs/eecs545/lib/python3.11/site-packages (from huggingface-hub>=0.17.0->peft) (2024.2.0)\n",
            "Requirement already satisfied: requests in /home/dylanz/anaconda3/envs/eecs545/lib/python3.11/site-packages (from huggingface-hub>=0.17.0->peft) (2.31.0)\n",
            "Requirement already satisfied: typing-extensions>=3.7.4.3 in /home/dylanz/anaconda3/envs/eecs545/lib/python3.11/site-packages (from huggingface-hub>=0.17.0->peft) (4.9.0)\n",
            "Requirement already satisfied: sympy in /home/dylanz/anaconda3/envs/eecs545/lib/python3.11/site-packages (from torch>=1.13.0->peft) (1.12)\n",
            "Requirement already satisfied: networkx in /home/dylanz/anaconda3/envs/eecs545/lib/python3.11/site-packages (from torch>=1.13.0->peft) (3.2.1)\n",
            "Requirement already satisfied: jinja2 in /home/dylanz/anaconda3/envs/eecs545/lib/python3.11/site-packages (from torch>=1.13.0->peft) (3.1.3)\n",
            "Requirement already satisfied: nvidia-cuda-nvrtc-cu12==12.1.105 in /home/dylanz/anaconda3/envs/eecs545/lib/python3.11/site-packages (from torch>=1.13.0->peft) (12.1.105)\n",
            "Requirement already satisfied: nvidia-cuda-runtime-cu12==12.1.105 in /home/dylanz/anaconda3/envs/eecs545/lib/python3.11/site-packages (from torch>=1.13.0->peft) (12.1.105)\n",
            "Requirement already satisfied: nvidia-cuda-cupti-cu12==12.1.105 in /home/dylanz/anaconda3/envs/eecs545/lib/python3.11/site-packages (from torch>=1.13.0->peft) (12.1.105)\n",
            "Requirement already satisfied: nvidia-cudnn-cu12==8.9.2.26 in /home/dylanz/anaconda3/envs/eecs545/lib/python3.11/site-packages (from torch>=1.13.0->peft) (8.9.2.26)\n",
            "Requirement already satisfied: nvidia-cublas-cu12==12.1.3.1 in /home/dylanz/anaconda3/envs/eecs545/lib/python3.11/site-packages (from torch>=1.13.0->peft) (12.1.3.1)\n",
            "Requirement already satisfied: nvidia-cufft-cu12==11.0.2.54 in /home/dylanz/anaconda3/envs/eecs545/lib/python3.11/site-packages (from torch>=1.13.0->peft) (11.0.2.54)\n",
            "Requirement already satisfied: nvidia-curand-cu12==10.3.2.106 in /home/dylanz/anaconda3/envs/eecs545/lib/python3.11/site-packages (from torch>=1.13.0->peft) (10.3.2.106)\n",
            "Requirement already satisfied: nvidia-cusolver-cu12==11.4.5.107 in /home/dylanz/anaconda3/envs/eecs545/lib/python3.11/site-packages (from torch>=1.13.0->peft) (11.4.5.107)\n",
            "Requirement already satisfied: nvidia-cusparse-cu12==12.1.0.106 in /home/dylanz/anaconda3/envs/eecs545/lib/python3.11/site-packages (from torch>=1.13.0->peft) (12.1.0.106)\n",
            "Requirement already satisfied: nvidia-nccl-cu12==2.19.3 in /home/dylanz/anaconda3/envs/eecs545/lib/python3.11/site-packages (from torch>=1.13.0->peft) (2.19.3)\n",
            "Requirement already satisfied: nvidia-nvtx-cu12==12.1.105 in /home/dylanz/anaconda3/envs/eecs545/lib/python3.11/site-packages (from torch>=1.13.0->peft) (12.1.105)\n",
            "Requirement already satisfied: triton==2.2.0 in /home/dylanz/anaconda3/envs/eecs545/lib/python3.11/site-packages (from torch>=1.13.0->peft) (2.2.0)\n",
            "Requirement already satisfied: nvidia-nvjitlink-cu12 in /home/dylanz/anaconda3/envs/eecs545/lib/python3.11/site-packages (from nvidia-cusolver-cu12==11.4.5.107->torch>=1.13.0->peft) (12.4.99)\n",
            "Requirement already satisfied: regex!=2019.12.17 in /home/dylanz/anaconda3/envs/eecs545/lib/python3.11/site-packages (from transformers->peft) (2024.4.16)\n",
            "Requirement already satisfied: tokenizers<0.19,>=0.14 in /home/dylanz/anaconda3/envs/eecs545/lib/python3.11/site-packages (from transformers->peft) (0.15.2)\n",
            "Requirement already satisfied: MarkupSafe>=2.0 in /home/dylanz/anaconda3/envs/eecs545/lib/python3.11/site-packages (from jinja2->torch>=1.13.0->peft) (2.1.5)\n",
            "Requirement already satisfied: charset-normalizer<4,>=2 in /home/dylanz/anaconda3/envs/eecs545/lib/python3.11/site-packages (from requests->huggingface-hub>=0.17.0->peft) (3.3.2)\n",
            "Requirement already satisfied: idna<4,>=2.5 in /home/dylanz/anaconda3/envs/eecs545/lib/python3.11/site-packages (from requests->huggingface-hub>=0.17.0->peft) (3.7)\n",
            "Requirement already satisfied: urllib3<3,>=1.21.1 in /home/dylanz/anaconda3/envs/eecs545/lib/python3.11/site-packages (from requests->huggingface-hub>=0.17.0->peft) (2.2.1)\n",
            "Requirement already satisfied: certifi>=2017.4.17 in /home/dylanz/anaconda3/envs/eecs545/lib/python3.11/site-packages (from requests->huggingface-hub>=0.17.0->peft) (2024.2.2)\n",
            "Requirement already satisfied: mpmath>=0.19 in /home/dylanz/anaconda3/envs/eecs545/lib/python3.11/site-packages (from sympy->torch>=1.13.0->peft) (1.3.0)\n",
            "Requirement already satisfied: accelerate in /home/dylanz/anaconda3/envs/eecs545/lib/python3.11/site-packages (0.29.3)\n",
            "Requirement already satisfied: numpy>=1.17 in /home/dylanz/anaconda3/envs/eecs545/lib/python3.11/site-packages (from accelerate) (1.26.3)\n",
            "Requirement already satisfied: packaging>=20.0 in /home/dylanz/anaconda3/envs/eecs545/lib/python3.11/site-packages (from accelerate) (23.2)\n",
            "Requirement already satisfied: psutil in /home/dylanz/anaconda3/envs/eecs545/lib/python3.11/site-packages (from accelerate) (5.9.0)\n",
            "Requirement already satisfied: pyyaml in /home/dylanz/anaconda3/envs/eecs545/lib/python3.11/site-packages (from accelerate) (6.0.1)\n",
            "Requirement already satisfied: torch>=1.10.0 in /home/dylanz/anaconda3/envs/eecs545/lib/python3.11/site-packages (from accelerate) (2.2.1)\n",
            "Requirement already satisfied: huggingface-hub in /home/dylanz/anaconda3/envs/eecs545/lib/python3.11/site-packages (from accelerate) (0.22.2)\n",
            "Requirement already satisfied: safetensors>=0.3.1 in /home/dylanz/anaconda3/envs/eecs545/lib/python3.11/site-packages (from accelerate) (0.4.3)\n",
            "Requirement already satisfied: filelock in /home/dylanz/anaconda3/envs/eecs545/lib/python3.11/site-packages (from torch>=1.10.0->accelerate) (3.13.1)\n",
            "Requirement already satisfied: typing-extensions>=4.8.0 in /home/dylanz/anaconda3/envs/eecs545/lib/python3.11/site-packages (from torch>=1.10.0->accelerate) (4.9.0)\n",
            "Requirement already satisfied: sympy in /home/dylanz/anaconda3/envs/eecs545/lib/python3.11/site-packages (from torch>=1.10.0->accelerate) (1.12)\n",
            "Requirement already satisfied: networkx in /home/dylanz/anaconda3/envs/eecs545/lib/python3.11/site-packages (from torch>=1.10.0->accelerate) (3.2.1)\n",
            "Requirement already satisfied: jinja2 in /home/dylanz/anaconda3/envs/eecs545/lib/python3.11/site-packages (from torch>=1.10.0->accelerate) (3.1.3)\n",
            "Requirement already satisfied: fsspec in /home/dylanz/anaconda3/envs/eecs545/lib/python3.11/site-packages (from torch>=1.10.0->accelerate) (2024.2.0)\n",
            "Requirement already satisfied: nvidia-cuda-nvrtc-cu12==12.1.105 in /home/dylanz/anaconda3/envs/eecs545/lib/python3.11/site-packages (from torch>=1.10.0->accelerate) (12.1.105)\n",
            "Requirement already satisfied: nvidia-cuda-runtime-cu12==12.1.105 in /home/dylanz/anaconda3/envs/eecs545/lib/python3.11/site-packages (from torch>=1.10.0->accelerate) (12.1.105)\n",
            "Requirement already satisfied: nvidia-cuda-cupti-cu12==12.1.105 in /home/dylanz/anaconda3/envs/eecs545/lib/python3.11/site-packages (from torch>=1.10.0->accelerate) (12.1.105)\n",
            "Requirement already satisfied: nvidia-cudnn-cu12==8.9.2.26 in /home/dylanz/anaconda3/envs/eecs545/lib/python3.11/site-packages (from torch>=1.10.0->accelerate) (8.9.2.26)\n",
            "Requirement already satisfied: nvidia-cublas-cu12==12.1.3.1 in /home/dylanz/anaconda3/envs/eecs545/lib/python3.11/site-packages (from torch>=1.10.0->accelerate) (12.1.3.1)\n",
            "Requirement already satisfied: nvidia-cufft-cu12==11.0.2.54 in /home/dylanz/anaconda3/envs/eecs545/lib/python3.11/site-packages (from torch>=1.10.0->accelerate) (11.0.2.54)\n",
            "Requirement already satisfied: nvidia-curand-cu12==10.3.2.106 in /home/dylanz/anaconda3/envs/eecs545/lib/python3.11/site-packages (from torch>=1.10.0->accelerate) (10.3.2.106)\n",
            "Requirement already satisfied: nvidia-cusolver-cu12==11.4.5.107 in /home/dylanz/anaconda3/envs/eecs545/lib/python3.11/site-packages (from torch>=1.10.0->accelerate) (11.4.5.107)\n",
            "Requirement already satisfied: nvidia-cusparse-cu12==12.1.0.106 in /home/dylanz/anaconda3/envs/eecs545/lib/python3.11/site-packages (from torch>=1.10.0->accelerate) (12.1.0.106)\n",
            "Requirement already satisfied: nvidia-nccl-cu12==2.19.3 in /home/dylanz/anaconda3/envs/eecs545/lib/python3.11/site-packages (from torch>=1.10.0->accelerate) (2.19.3)\n",
            "Requirement already satisfied: nvidia-nvtx-cu12==12.1.105 in /home/dylanz/anaconda3/envs/eecs545/lib/python3.11/site-packages (from torch>=1.10.0->accelerate) (12.1.105)\n",
            "Requirement already satisfied: triton==2.2.0 in /home/dylanz/anaconda3/envs/eecs545/lib/python3.11/site-packages (from torch>=1.10.0->accelerate) (2.2.0)\n",
            "Requirement already satisfied: nvidia-nvjitlink-cu12 in /home/dylanz/anaconda3/envs/eecs545/lib/python3.11/site-packages (from nvidia-cusolver-cu12==11.4.5.107->torch>=1.10.0->accelerate) (12.4.99)\n",
            "Requirement already satisfied: requests in /home/dylanz/anaconda3/envs/eecs545/lib/python3.11/site-packages (from huggingface-hub->accelerate) (2.31.0)\n",
            "Requirement already satisfied: tqdm>=4.42.1 in /home/dylanz/anaconda3/envs/eecs545/lib/python3.11/site-packages (from huggingface-hub->accelerate) (4.66.2)\n",
            "Requirement already satisfied: MarkupSafe>=2.0 in /home/dylanz/anaconda3/envs/eecs545/lib/python3.11/site-packages (from jinja2->torch>=1.10.0->accelerate) (2.1.5)\n",
            "Requirement already satisfied: charset-normalizer<4,>=2 in /home/dylanz/anaconda3/envs/eecs545/lib/python3.11/site-packages (from requests->huggingface-hub->accelerate) (3.3.2)\n",
            "Requirement already satisfied: idna<4,>=2.5 in /home/dylanz/anaconda3/envs/eecs545/lib/python3.11/site-packages (from requests->huggingface-hub->accelerate) (3.7)\n",
            "Requirement already satisfied: urllib3<3,>=1.21.1 in /home/dylanz/anaconda3/envs/eecs545/lib/python3.11/site-packages (from requests->huggingface-hub->accelerate) (2.2.1)\n",
            "Requirement already satisfied: certifi>=2017.4.17 in /home/dylanz/anaconda3/envs/eecs545/lib/python3.11/site-packages (from requests->huggingface-hub->accelerate) (2024.2.2)\n",
            "Requirement already satisfied: mpmath>=0.19 in /home/dylanz/anaconda3/envs/eecs545/lib/python3.11/site-packages (from sympy->torch>=1.10.0->accelerate) (1.3.0)\n"
          ]
        }
      ],
      "source": [
        "!pip install transformers\n",
        "!pip install bitsandbytes\n",
        "!pip install peft\n",
        "!pip install accelerate\n",
        "!pip install -i https://pypi.org/simple/ bitsandbytes"
      ]
    },
    {
      "cell_type": "code",
      "execution_count": 28,
      "metadata": {
        "id": "PULdDghZneGL"
      },
      "outputs": [],
      "source": [
        "from transformers import AutoModelForCausalLM, AutoTokenizer, PhiForCausalLM\n",
        "import torch\n",
        "from peft import LoraConfig, prepare_model_for_kbit_training, AutoPeftModelForCausalLM, PeftModel\n"
      ]
    },
    {
      "cell_type": "code",
      "execution_count": 29,
      "metadata": {
        "id": "_hyeWWqYniLM"
      },
      "outputs": [],
      "source": [
        "###### TODO: replace model to trained phi-2 #####\n",
        "torch.set_default_device(\"cuda\")\n",
        "\n",
        "# model = AutoModelForCausalLM.from_pretrained(\"microsoft/phi-2\", torch_dtype=\"auto\", trust_remote_code=True)\n",
        "# tokenizer = AutoTokenizer.from_pretrained(\"microsoft/phi-2\", trust_remote_code=True)"
      ]
    },
    {
      "cell_type": "code",
      "execution_count": 32,
      "metadata": {
        "id": "2_wUPJH5njN_"
      },
      "outputs": [],
      "source": [
        "from evalplus.data import get_human_eval_plus, write_jsonl\n",
        "from transformers import AutoModelForCausalLM, AutoTokenizer, TrainingArguments, BitsAndBytesConfig, PhiForCausalLM\n",
        "def GEN_SOLUTION(model, problem):\n",
        "  inputs = tokenizer(problem, return_tensors=\"pt\", return_attention_mask=False).to('cuda')\n",
        "\n",
        "  outputs = model.generate(**inputs, max_length=len(problem)+300, pad_token_id=tokenizer.eos_token_id)\n",
        "  text = tokenizer.batch_decode(outputs)[0]\n",
        "\n",
        "  return text\n"
      ]
    },
    {
      "cell_type": "code",
      "execution_count": 33,
      "metadata": {
        "id": "62Ao9Ekm1Ukk"
      },
      "outputs": [
        {
          "name": "stderr",
          "output_type": "stream",
          "text": [
            "Special tokens have been added in the vocabulary, make sure the associated word embeddings are fine-tuned or trained.\n"
          ]
        },
        {
          "ename": "ImportError",
          "evalue": "Using `bitsandbytes` 8-bit quantization requires Accelerate: `pip install accelerate` and the latest version of bitsandbytes: `pip install -i https://pypi.org/simple/ bitsandbytes`",
          "output_type": "error",
          "traceback": [
            "\u001b[0;31m---------------------------------------------------------------------------\u001b[0m",
            "\u001b[0;31mImportError\u001b[0m                               Traceback (most recent call last)",
            "Cell \u001b[0;32mIn[33], line 12\u001b[0m\n\u001b[1;32m      4\u001b[0m bnb_config \u001b[38;5;241m=\u001b[39m BitsAndBytesConfig(\n\u001b[1;32m      5\u001b[0m         bnb_4bit_compute_dtype\u001b[38;5;241m=\u001b[39m\u001b[38;5;124m'\u001b[39m\u001b[38;5;124mbfloat16\u001b[39m\u001b[38;5;124m'\u001b[39m,\n\u001b[1;32m      6\u001b[0m         bnb_4bit_quant_type\u001b[38;5;241m=\u001b[39m\u001b[38;5;124m'\u001b[39m\u001b[38;5;124mnf4\u001b[39m\u001b[38;5;124m'\u001b[39m,\n\u001b[1;32m      7\u001b[0m         bnb_4bit_use_double_quant\u001b[38;5;241m=\u001b[39m\u001b[38;5;28;01mTrue\u001b[39;00m,\n\u001b[1;32m      8\u001b[0m         load_in_4bit\u001b[38;5;241m=\u001b[39m\u001b[38;5;28;01mTrue\u001b[39;00m\n\u001b[1;32m      9\u001b[0m )\n\u001b[1;32m     11\u001b[0m tokenizer \u001b[38;5;241m=\u001b[39m AutoTokenizer\u001b[38;5;241m.\u001b[39mfrom_pretrained(\u001b[38;5;124m'\u001b[39m\u001b[38;5;124m/home/dylanz/group_project/eecs-545-project/trained_models/artifacts\u001b[39m\u001b[38;5;124m'\u001b[39m, trust_remote_code\u001b[38;5;241m=\u001b[39m\u001b[38;5;28;01mTrue\u001b[39;00m)\n\u001b[0;32m---> 12\u001b[0m base_model \u001b[38;5;241m=\u001b[39m \u001b[43mAutoModelForCausalLM\u001b[49m\u001b[38;5;241;43m.\u001b[39;49m\u001b[43mfrom_pretrained\u001b[49m\u001b[43m(\u001b[49m\n\u001b[1;32m     13\u001b[0m \u001b[43m          \u001b[49m\u001b[38;5;124;43m'\u001b[39;49m\u001b[38;5;124;43mmicrosoft/phi-2\u001b[39;49m\u001b[38;5;124;43m'\u001b[39;49m\u001b[43m,\u001b[49m\u001b[43m \u001b[49m\n\u001b[1;32m     14\u001b[0m \u001b[43m          \u001b[49m\u001b[43mquantization_config\u001b[49m\u001b[38;5;241;43m=\u001b[39;49m\u001b[43mbnb_config\u001b[49m\u001b[43m,\u001b[49m\n\u001b[1;32m     15\u001b[0m \u001b[43m          \u001b[49m\u001b[43mtrust_remote_code\u001b[49m\u001b[38;5;241;43m=\u001b[39;49m\u001b[38;5;28;43;01mTrue\u001b[39;49;00m\n\u001b[1;32m     16\u001b[0m \u001b[43m)\u001b[49m\n\u001b[1;32m     18\u001b[0m \u001b[38;5;66;03m# Merge base model with the adapter\u001b[39;00m\n\u001b[1;32m     19\u001b[0m model \u001b[38;5;241m=\u001b[39m PeftModel\u001b[38;5;241m.\u001b[39mfrom_pretrained(base_model, \u001b[38;5;124m'\u001b[39m\u001b[38;5;124m./trained_models/\u001b[39m\u001b[38;5;124m'\u001b[39m \u001b[38;5;241m+\u001b[39m \u001b[38;5;124m'\u001b[39m\u001b[38;5;124martifacts\u001b[39m\u001b[38;5;124m'\u001b[39m)\n",
            "File \u001b[0;32m~/anaconda3/envs/eecs545/lib/python3.11/site-packages/transformers/models/auto/auto_factory.py:558\u001b[0m, in \u001b[0;36m_BaseAutoModelClass.from_pretrained\u001b[0;34m(cls, pretrained_model_name_or_path, *model_args, **kwargs)\u001b[0m\n\u001b[1;32m    556\u001b[0m     \u001b[38;5;28;01melse\u001b[39;00m:\n\u001b[1;32m    557\u001b[0m         \u001b[38;5;28mcls\u001b[39m\u001b[38;5;241m.\u001b[39mregister(config\u001b[38;5;241m.\u001b[39m\u001b[38;5;18m__class__\u001b[39m, model_class, exist_ok\u001b[38;5;241m=\u001b[39m\u001b[38;5;28;01mTrue\u001b[39;00m)\n\u001b[0;32m--> 558\u001b[0m     \u001b[38;5;28;01mreturn\u001b[39;00m \u001b[43mmodel_class\u001b[49m\u001b[38;5;241;43m.\u001b[39;49m\u001b[43mfrom_pretrained\u001b[49m\u001b[43m(\u001b[49m\n\u001b[1;32m    559\u001b[0m \u001b[43m        \u001b[49m\u001b[43mpretrained_model_name_or_path\u001b[49m\u001b[43m,\u001b[49m\u001b[43m \u001b[49m\u001b[38;5;241;43m*\u001b[39;49m\u001b[43mmodel_args\u001b[49m\u001b[43m,\u001b[49m\u001b[43m \u001b[49m\u001b[43mconfig\u001b[49m\u001b[38;5;241;43m=\u001b[39;49m\u001b[43mconfig\u001b[49m\u001b[43m,\u001b[49m\u001b[43m \u001b[49m\u001b[38;5;241;43m*\u001b[39;49m\u001b[38;5;241;43m*\u001b[39;49m\u001b[43mhub_kwargs\u001b[49m\u001b[43m,\u001b[49m\u001b[43m \u001b[49m\u001b[38;5;241;43m*\u001b[39;49m\u001b[38;5;241;43m*\u001b[39;49m\u001b[43mkwargs\u001b[49m\n\u001b[1;32m    560\u001b[0m \u001b[43m    \u001b[49m\u001b[43m)\u001b[49m\n\u001b[1;32m    561\u001b[0m \u001b[38;5;28;01melif\u001b[39;00m \u001b[38;5;28mtype\u001b[39m(config) \u001b[38;5;129;01min\u001b[39;00m \u001b[38;5;28mcls\u001b[39m\u001b[38;5;241m.\u001b[39m_model_mapping\u001b[38;5;241m.\u001b[39mkeys():\n\u001b[1;32m    562\u001b[0m     model_class \u001b[38;5;241m=\u001b[39m _get_model_class(config, \u001b[38;5;28mcls\u001b[39m\u001b[38;5;241m.\u001b[39m_model_mapping)\n",
            "File \u001b[0;32m~/anaconda3/envs/eecs545/lib/python3.11/site-packages/transformers/modeling_utils.py:3049\u001b[0m, in \u001b[0;36mPreTrainedModel.from_pretrained\u001b[0;34m(cls, pretrained_model_name_or_path, config, cache_dir, ignore_mismatched_sizes, force_download, local_files_only, token, revision, use_safetensors, *model_args, **kwargs)\u001b[0m\n\u001b[1;32m   3046\u001b[0m     hf_quantizer \u001b[38;5;241m=\u001b[39m \u001b[38;5;28;01mNone\u001b[39;00m\n\u001b[1;32m   3048\u001b[0m \u001b[38;5;28;01mif\u001b[39;00m hf_quantizer \u001b[38;5;129;01mis\u001b[39;00m \u001b[38;5;129;01mnot\u001b[39;00m \u001b[38;5;28;01mNone\u001b[39;00m:\n\u001b[0;32m-> 3049\u001b[0m     \u001b[43mhf_quantizer\u001b[49m\u001b[38;5;241;43m.\u001b[39;49m\u001b[43mvalidate_environment\u001b[49m\u001b[43m(\u001b[49m\n\u001b[1;32m   3050\u001b[0m \u001b[43m        \u001b[49m\u001b[43mtorch_dtype\u001b[49m\u001b[38;5;241;43m=\u001b[39;49m\u001b[43mtorch_dtype\u001b[49m\u001b[43m,\u001b[49m\u001b[43m \u001b[49m\u001b[43mfrom_tf\u001b[49m\u001b[38;5;241;43m=\u001b[39;49m\u001b[43mfrom_tf\u001b[49m\u001b[43m,\u001b[49m\u001b[43m \u001b[49m\u001b[43mfrom_flax\u001b[49m\u001b[38;5;241;43m=\u001b[39;49m\u001b[43mfrom_flax\u001b[49m\u001b[43m,\u001b[49m\u001b[43m \u001b[49m\u001b[43mdevice_map\u001b[49m\u001b[38;5;241;43m=\u001b[39;49m\u001b[43mdevice_map\u001b[49m\n\u001b[1;32m   3051\u001b[0m \u001b[43m    \u001b[49m\u001b[43m)\u001b[49m\n\u001b[1;32m   3052\u001b[0m     torch_dtype \u001b[38;5;241m=\u001b[39m hf_quantizer\u001b[38;5;241m.\u001b[39mupdate_torch_dtype(torch_dtype)\n\u001b[1;32m   3053\u001b[0m     device_map \u001b[38;5;241m=\u001b[39m hf_quantizer\u001b[38;5;241m.\u001b[39mupdate_device_map(device_map)\n",
            "File \u001b[0;32m~/anaconda3/envs/eecs545/lib/python3.11/site-packages/transformers/quantizers/quantizer_bnb_4bit.py:62\u001b[0m, in \u001b[0;36mBnb4BitHfQuantizer.validate_environment\u001b[0;34m(self, *args, **kwargs)\u001b[0m\n\u001b[1;32m     60\u001b[0m \u001b[38;5;28;01mdef\u001b[39;00m \u001b[38;5;21mvalidate_environment\u001b[39m(\u001b[38;5;28mself\u001b[39m, \u001b[38;5;241m*\u001b[39margs, \u001b[38;5;241m*\u001b[39m\u001b[38;5;241m*\u001b[39mkwargs):\n\u001b[1;32m     61\u001b[0m     \u001b[38;5;28;01mif\u001b[39;00m \u001b[38;5;129;01mnot\u001b[39;00m (is_accelerate_available() \u001b[38;5;129;01mand\u001b[39;00m is_bitsandbytes_available()):\n\u001b[0;32m---> 62\u001b[0m         \u001b[38;5;28;01mraise\u001b[39;00m \u001b[38;5;167;01mImportError\u001b[39;00m(\n\u001b[1;32m     63\u001b[0m             \u001b[38;5;124m\"\u001b[39m\u001b[38;5;124mUsing `bitsandbytes` 8-bit quantization requires Accelerate: `pip install accelerate` \u001b[39m\u001b[38;5;124m\"\u001b[39m\n\u001b[1;32m     64\u001b[0m             \u001b[38;5;124m\"\u001b[39m\u001b[38;5;124mand the latest version of bitsandbytes: `pip install -i https://pypi.org/simple/ bitsandbytes`\u001b[39m\u001b[38;5;124m\"\u001b[39m\n\u001b[1;32m     65\u001b[0m         )\n\u001b[1;32m     67\u001b[0m     \u001b[38;5;28;01mif\u001b[39;00m kwargs\u001b[38;5;241m.\u001b[39mget(\u001b[38;5;124m\"\u001b[39m\u001b[38;5;124mfrom_tf\u001b[39m\u001b[38;5;124m\"\u001b[39m, \u001b[38;5;28;01mFalse\u001b[39;00m) \u001b[38;5;129;01mor\u001b[39;00m kwargs\u001b[38;5;241m.\u001b[39mget(\u001b[38;5;124m\"\u001b[39m\u001b[38;5;124mfrom_flax\u001b[39m\u001b[38;5;124m\"\u001b[39m, \u001b[38;5;28;01mFalse\u001b[39;00m):\n\u001b[1;32m     68\u001b[0m         \u001b[38;5;28;01mraise\u001b[39;00m \u001b[38;5;167;01mValueError\u001b[39;00m(\n\u001b[1;32m     69\u001b[0m             \u001b[38;5;124m\"\u001b[39m\u001b[38;5;124mConverting into 4-bit or 8-bit weights from tf/flax weights is currently not supported, please make\u001b[39m\u001b[38;5;124m\"\u001b[39m\n\u001b[1;32m     70\u001b[0m             \u001b[38;5;124m\"\u001b[39m\u001b[38;5;124m sure the weights are in PyTorch format.\u001b[39m\u001b[38;5;124m\"\u001b[39m\n\u001b[1;32m     71\u001b[0m         )\n",
            "\u001b[0;31mImportError\u001b[0m: Using `bitsandbytes` 8-bit quantization requires Accelerate: `pip install accelerate` and the latest version of bitsandbytes: `pip install -i https://pypi.org/simple/ bitsandbytes`"
          ]
        }
      ],
      "source": [
        "# Implement the GEN_SOLUTION function by calling the LLM to produce the complete solution (include the code) \n",
        "# and save the samples to samples.jsonl:\n",
        "# Load the model with 4bit quauntization\n",
        "bnb_config = BitsAndBytesConfig(\n",
        "        bnb_4bit_compute_dtype='bfloat16',\n",
        "        bnb_4bit_quant_type='nf4',\n",
        "        bnb_4bit_use_double_quant=True,\n",
        "        load_in_4bit=True\n",
        ")\n",
        "\n",
        "tokenizer = AutoTokenizer.from_pretrained('/home/dylanz/group_project/eecs-545-project/trained_models/artifacts', trust_remote_code=True)\n",
        "base_model = AutoModelForCausalLM.from_pretrained(\n",
        "          'microsoft/phi-2', \n",
        "          quantization_config=bnb_config,\n",
        "          trust_remote_code=True\n",
        ")\n",
        "\n",
        "# Merge base model with the adapter\n",
        "model = PeftModel.from_pretrained(base_model, './trained_models/' + 'artifacts')\n",
        "model = model.merge_and_unload()\n",
        "\n",
        "samples = [dict(task_id=task_id, solution=GEN_SOLUTION(model, problem[\"prompt\"]))\n",
        "    for task_id, problem in get_human_eval_plus().items()]\n",
        "write_jsonl(\"samples.jsonl\", samples)  ### write the generate response to local"
      ]
    },
    {
      "cell_type": "code",
      "execution_count": null,
      "metadata": {
        "colab": {
          "base_uri": "https://localhost:8080/"
        },
        "id": "ClnYNHZUVVHb",
        "outputId": "41e9d561-832e-4e02-aaee-1c428cc7cd6d"
      },
      "outputs": [
        {
          "name": "stdout",
          "output_type": "stream",
          "text": [
            "Cloning into 'evalplus'...\n",
            "remote: Enumerating objects: 6332, done.\u001b[K\n",
            "remote: Counting objects: 100% (6329/6329), done.\u001b[K\n",
            "remote: Compressing objects: 100% (2206/2206), done.\u001b[K\n",
            "remote: Total 6332 (delta 3962), reused 6107 (delta 3878), pack-reused 3\u001b[K\n",
            "Receiving objects: 100% (6332/6332), 5.18 MiB | 11.15 MiB/s, done.\n",
            "Resolving deltas: 100% (3962/3962), done.\n"
          ]
        }
      ],
      "source": [
        "!git clone https://github.com/evalplus/evalplus.git"
      ]
    },
    {
      "cell_type": "code",
      "execution_count": null,
      "metadata": {
        "id": "Jc4mNZigXH8v"
      },
      "outputs": [],
      "source": [
        "!cd ./evalplus/evalplus"
      ]
    },
    {
      "cell_type": "code",
      "execution_count": null,
      "metadata": {
        "id": "lgjtSWhXVdwz"
      },
      "outputs": [],
      "source": [
        "# LLM-generated text may not be compilable code for including natural language lines or incomplete extra code.\n",
        "# We provide a tool namely evalplus.sanitize to clean up the code:\n",
        "!python ./evalplus/sanitize.py --samples ./samples.jsonl"
      ]
    },
    {
      "cell_type": "code",
      "execution_count": null,
      "metadata": {
        "id": "Bcym6rVvvMEm"
      },
      "outputs": [],
      "source": [
        "# Checking the compilability of post-processed code:\n",
        "!python evalplus/syncheck.py --samples ./samples-sanitized.jsonl --dataset humaneval"
      ]
    }
  ],
  "metadata": {
    "colab": {
      "provenance": []
    },
    "kernelspec": {
      "display_name": "Python 3",
      "name": "python3"
    },
    "language_info": {
      "codemirror_mode": {
        "name": "ipython",
        "version": 3
      },
      "file_extension": ".py",
      "mimetype": "text/x-python",
      "name": "python",
      "nbconvert_exporter": "python",
      "pygments_lexer": "ipython3",
      "version": "3.11.7"
    }
  },
  "nbformat": 4,
  "nbformat_minor": 0
}
