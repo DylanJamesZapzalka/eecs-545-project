{
  "cells": [
    {
      "cell_type": "code",
      "execution_count": null,
      "metadata": {
        "id": "b6JWefgwnVuh"
      },
      "outputs": [],
      "source": [
        "# This script resfers to https://github.com/evalplus/evalplus\n",
        "!pip install evalplus --upgrade"
      ]
    },
    {
      "cell_type": "code",
      "execution_count": null,
      "metadata": {
        "id": "QvXZv-JhO9Rj"
      },
      "outputs": [],
      "source": [
        "!pip install transformers"
      ]
    },
    {
      "cell_type": "code",
      "execution_count": null,
      "metadata": {
        "id": "PULdDghZneGL"
      },
      "outputs": [],
      "source": [
        "from transformers import AutoModelForCausalLM, AutoTokenizer\n",
        "import torch"
      ]
    },
    {
      "cell_type": "code",
      "execution_count": null,
      "metadata": {
        "id": "_hyeWWqYniLM"
      },
      "outputs": [],
      "source": [
        "###### TODO: replace model to trained phi-2 #####\n",
        "torch.set_default_device(\"cuda\")\n",
        "\n",
        "# model = AutoModelForCausalLM.from_pretrained(\"microsoft/phi-2\", torch_dtype=\"auto\", trust_remote_code=True)\n",
        "# tokenizer = AutoTokenizer.from_pretrained(\"microsoft/phi-2\", trust_remote_code=True)"
      ]
    },
    {
      "cell_type": "code",
      "execution_count": null,
      "metadata": {
        "id": "2_wUPJH5njN_"
      },
      "outputs": [],
      "source": [
        "from evalplus.data import get_human_eval_plus, write_jsonl\n",
        "\n",
        "def GEN_SOLUTION(model, problem):\n",
        "  inputs = tokenizer(problem, return_tensors=\"pt\", return_attention_mask=False).to('cuda')\n",
        "\n",
        "  outputs = model.generate(**inputs, max_length=len(problem)+300, pad_token_id=tokenizer.eos_token_id)\n",
        "  text = tokenizer.batch_decode(outputs)[0]\n",
        "\n",
        "  return text\n",
        "\n"
      ]
    },
    {
      "cell_type": "code",
      "execution_count": null,
      "metadata": {
        "id": "62Ao9Ekm1Ukk"
      },
      "outputs": [],
      "source": [
        "# Implement the GEN_SOLUTION function by calling the LLM to produce the complete solution (include the code) \n",
        "# and save the samples to samples.jsonl:\n",
        "\n",
        "samples = [dict(task_id=task_id, solution=GEN_SOLUTION(model, problem[\"prompt\"]))\n",
        "    for task_id, problem in get_human_eval_plus().items()]\n",
        "write_jsonl(\"samples.jsonl\", samples)  ### write the generate response to local"
      ]
    },
    {
      "cell_type": "code",
      "execution_count": null,
      "metadata": {
        "colab": {
          "base_uri": "https://localhost:8080/"
        },
        "id": "ClnYNHZUVVHb",
        "outputId": "41e9d561-832e-4e02-aaee-1c428cc7cd6d"
      },
      "outputs": [
        {
          "name": "stdout",
          "output_type": "stream",
          "text": [
            "Cloning into 'evalplus'...\n",
            "remote: Enumerating objects: 6332, done.\u001b[K\n",
            "remote: Counting objects: 100% (6329/6329), done.\u001b[K\n",
            "remote: Compressing objects: 100% (2206/2206), done.\u001b[K\n",
            "remote: Total 6332 (delta 3962), reused 6107 (delta 3878), pack-reused 3\u001b[K\n",
            "Receiving objects: 100% (6332/6332), 5.18 MiB | 11.15 MiB/s, done.\n",
            "Resolving deltas: 100% (3962/3962), done.\n"
          ]
        }
      ],
      "source": [
        "!git clone https://github.com/evalplus/evalplus.git"
      ]
    },
    {
      "cell_type": "code",
      "execution_count": null,
      "metadata": {
        "id": "Jc4mNZigXH8v"
      },
      "outputs": [],
      "source": [
        "!cd ./evalplus/evalplus"
      ]
    },
    {
      "cell_type": "code",
      "execution_count": null,
      "metadata": {
        "id": "lgjtSWhXVdwz"
      },
      "outputs": [],
      "source": [
        "# LLM-generated text may not be compilable code for including natural language lines or incomplete extra code.\n",
        "# We provide a tool namely evalplus.sanitize to clean up the code:\n",
        "!python ./evalplus/sanitize.py --samples ./samples.jsonl"
      ]
    },
    {
      "cell_type": "code",
      "execution_count": null,
      "metadata": {
        "id": "Bcym6rVvvMEm"
      },
      "outputs": [],
      "source": [
        "# Checking the compilability of post-processed code:\n",
        "!python evalplus/syncheck.py --samples ./samples-sanitized.jsonl --dataset humaneval"
      ]
    }
  ],
  "metadata": {
    "colab": {
      "provenance": []
    },
    "kernelspec": {
      "display_name": "Python 3",
      "name": "python3"
    },
    "language_info": {
      "name": "python"
    }
  },
  "nbformat": 4,
  "nbformat_minor": 0
}
